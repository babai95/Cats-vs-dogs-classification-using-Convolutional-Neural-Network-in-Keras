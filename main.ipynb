{
 "cells": [
  {
   "cell_type": "code",
   "execution_count": null,
   "metadata": {},
   "outputs": [],
   "source": [
    "import keras       \n",
    "import numpy as np\n",
    "import os\n",
    "from PIL import Image as pil_image\n",
    "from keras.models import Sequential\n",
    "from keras.layers import Activation, Dropout, Flatten, Dense\n",
    "from keras.preprocessing.image import ImageDataGenerator\n",
    "from keras.layers import Conv2D, MaxPooling2D, ZeroPadding2D\n",
    "from keras import optimizers"
   ]
  },
  {
   "cell_type": "code",
   "execution_count": 2,
   "metadata": {},
   "outputs": [],
   "source": [
    "img_width, img_height = 150, 150\n",
    "\n",
    "train_data_dir = 'data/train data'\n",
    "#here data must be in the same folder as main.ipynb and inside data, train data and validation data is present.\n",
    "validation_data_dir = 'data/validation data'\n",
    "datagen = ImageDataGenerator(rescale=1./255)\n"
   ]
  },
  {
   "cell_type": "code",
   "execution_count": 3,
   "metadata": {},
   "outputs": [
    {
     "name": "stdout",
     "output_type": "stream",
     "text": [
      "Found 2000 images belonging to 2 classes.\n",
      "Found 800 images belonging to 2 classes.\n"
     ]
    }
   ],
   "source": [
    "train_generator = datagen.flow_from_directory(\n",
    "        train_data_dir,\n",
    "        target_size=(img_width, img_height),\n",
    "        batch_size=16,\n",
    "        class_mode='binary')\n",
    "\n",
    "validation_generator = datagen.flow_from_directory(\n",
    "        validation_data_dir,\n",
    "        target_size=(img_width, img_height),\n",
    "        batch_size=32,\n",
    "        class_mode='binary')"
   ]
  },
  {
   "cell_type": "code",
   "execution_count": 4,
   "metadata": {},
   "outputs": [],
   "source": [
    "model = Sequential()\n",
    "model.add(Conv2D(32,(3,3),input_shape = (img_width,img_height,3)))\n",
    "model.add(Activation('relu'))\n",
    "model.add(MaxPooling2D(pool_size=(2,2)))\n",
    "\n",
    "\n",
    "model.add(Conv2D(32,(3,3),input_shape = (img_width,img_height,3)))\n",
    "model.add(Activation('relu'))\n",
    "model.add(MaxPooling2D(pool_size=(2,2)))\n",
    "\n",
    "\n",
    "model.add(Conv2D(32,(3,3),input_shape = (img_width,img_height,3)))\n",
    "model.add(Activation('relu'))\n",
    "model.add(MaxPooling2D(pool_size=(2,2)))\n",
    "\n",
    "model.add(Flatten())\n",
    "model.add(Dense(64))\n",
    "model.add(Activation('relu'))\n",
    "model.add(Dropout(0.5))\n",
    "model.add(Dense(1))\n",
    "model.add(Activation('sigmoid'))\n",
    "model.compile(loss = 'binary_crossentropy',\n",
    "              optimizer  = 'rmsprop',\n",
    "              metrics = ['accuracy'])"
   ]
  },
  {
   "cell_type": "code",
   "execution_count": 5,
   "metadata": {},
   "outputs": [
    {
     "name": "stdout",
     "output_type": "stream",
     "text": [
      "Epoch 1/15\n",
      "2000/2000 [==============================] - 1976s 988ms/step - loss: 0.3765 - acc: 0.8139 - val_loss: 1.1999 - val_acc: 0.7000\n",
      "Epoch 2/15\n",
      "2000/2000 [==============================] - 2123s 1s/step - loss: 0.0682 - acc: 0.9779 - val_loss: 2.2138 - val_acc: 0.7137\n",
      "Epoch 3/15\n",
      "2000/2000 [==============================] - 1970s 985ms/step - loss: 0.0698 - acc: 0.9815 - val_loss: 2.7619 - val_acc: 0.7037\n",
      "Epoch 4/15\n",
      "2000/2000 [==============================] - 1959s 980ms/step - loss: 0.0982 - acc: 0.9759 - val_loss: 2.9097 - val_acc: 0.7063\n",
      "Epoch 5/15\n",
      "2000/2000 [==============================] - 1989s 994ms/step - loss: 0.1374 - acc: 0.9682 - val_loss: 3.0491 - val_acc: 0.7125\n",
      "Epoch 6/15\n",
      "2000/2000 [==============================] - 1975s 988ms/step - loss: 0.2004 - acc: 0.9576 - val_loss: 2.0334 - val_acc: 0.7087\n",
      "Epoch 7/15\n",
      "2000/2000 [==============================] - 1980s 990ms/step - loss: 0.2025 - acc: 0.9559 - val_loss: 3.1450 - val_acc: 0.7113\n",
      "Epoch 8/15\n",
      "2000/2000 [==============================] - 2411s 1s/step - loss: 0.2135 - acc: 0.9528 - val_loss: 3.4523 - val_acc: 0.7050\n",
      "Epoch 9/15\n",
      "2000/2000 [==============================] - 2886s 1s/step - loss: 0.2899 - acc: 0.9397 - val_loss: 3.5364 - val_acc: 0.6625\n",
      "Epoch 10/15\n",
      "2000/2000 [==============================] - 3147s 2s/step - loss: 0.3218 - acc: 0.9398 - val_loss: 3.5683 - val_acc: 0.7200\n",
      "Epoch 11/15\n",
      "2000/2000 [==============================] - 4822s 2s/step - loss: 0.3178 - acc: 0.9386 - val_loss: 3.6088 - val_acc: 0.6987\n",
      "Epoch 12/15\n",
      "2000/2000 [==============================] - 2296s 1s/step - loss: 0.3813 - acc: 0.9300 - val_loss: 3.7782 - val_acc: 0.6937\n",
      "Epoch 13/15\n",
      "2000/2000 [==============================] - 2417s 1s/step - loss: 0.3503 - acc: 0.9355 - val_loss: 3.1324 - val_acc: 0.6913\n",
      "Epoch 14/15\n",
      "2000/2000 [==============================] - 2239s 1s/step - loss: 0.3246 - acc: 0.9445 - val_loss: 3.0761 - val_acc: 0.7125\n",
      "Epoch 15/15\n",
      "2000/2000 [==============================] - 2500s 1s/step - loss: 0.3090 - acc: 0.9414 - val_loss: 3.1724 - val_acc: 0.7013\n"
     ]
    }
   ],
   "source": [
    "model.fit_generator(\n",
    "    train_generator,\n",
    "    steps_per_epoch =2000,#no.of training samples\n",
    "    epochs=15,\n",
    "    validation_data=validation_generator,\n",
    "    validation_steps=800)#no. of validation samples\n",
    "model.save_weights('weights.h5')\n",
    "model.save('model.h5')"
   ]
  },
  {
   "cell_type": "code",
   "execution_count": null,
   "metadata": {},
   "outputs": [],
   "source": []
  }
 ],
 "metadata": {
  "kernelspec": {
   "display_name": "Python 3",
   "language": "python",
   "name": "python3"
  },
  "language_info": {
   "codemirror_mode": {
    "name": "ipython",
    "version": 3
   },
   "file_extension": ".py",
   "mimetype": "text/x-python",
   "name": "python",
   "nbconvert_exporter": "python",
   "pygments_lexer": "ipython3",
   "version": "3.6.4"
  }
 },
 "nbformat": 4,
 "nbformat_minor": 2
}
